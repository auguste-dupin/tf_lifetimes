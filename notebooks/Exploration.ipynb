{
  "cells": [
    {
      "cell_type": "code",
      "execution_count": null,
      "metadata": {
        "colab": {
          "base_uri": "https://localhost:8080/",
          "height": 17
        },
        "colab_type": "code",
        "id": "0jifCBTzSnwO",
        "outputId": "a17521de-b813-4125-b238-5b656578db25"
      },
      "outputs": [
        {
          "data": {
            "application/javascript": "IPython.OutputArea.prototype._should_scroll = function(lines) {\n    return false;\n}",
            "text/plain": [
              "<IPython.core.display.Javascript object>"
            ]
          },
          "metadata": {
            "tags": []
          },
          "output_type": "display_data"
        }
      ],
      "source": [
        "# %%javascript\n",
        "# IPython.OutputArea.prototype._should_scroll = function(lines) {\n",
        "#     return false;\n",
        "# }"
      ]
    },
    {
      "cell_type": "code",
      "execution_count": 21,
      "metadata": {
        "colab": {},
        "colab_type": "code",
        "id": "GqvIibXtSnwT"
      },
      "outputs": [],
      "source": [
        "import pandas as pd\n",
        "import numpy as np\n",
        "import matplotlib.pyplot as plt\n",
        "from mpl_toolkits.mplot3d import Axes3D\n",
        "import seaborn as sns\n",
        "from google.cloud import bigquery\n",
        "import calendar\n",
        "import time\n",
        "import os\n",
        "from datetime import datetime"
      ]
    },
    {
      "cell_type": "code",
      "execution_count": null,
      "metadata": {
        "colab": {},
        "colab_type": "code",
        "id": "l2EbQxk8SnwV"
      },
      "outputs": [],
      "source": [
        "PROJECT_ID = '[YOUR-PROJECT-ID]'\n",
        "DATASET = '[YOUR-DATASET]'\n",
        "TABLE = 'data_source'\n",
        "\n",
        "from google.colab import auth\n",
        "auth.authenticate_user()"
      ]
    },
    {
      "cell_type": "markdown",
      "metadata": {
        "colab_type": "text",
        "id": "IRZwAmVtWAW4"
      },
      "source": [
        "### Look at source data"
      ]
    },
    {
      "cell_type": "code",
      "execution_count": 88,
      "metadata": {
        "colab": {
          "base_uri": "https://localhost:8080/",
          "height": 416
        },
        "colab_type": "code",
        "id": "sO2ttiq6V_6M",
        "outputId": "692906c7-e8c2-4303-a253-bda403fb2022"
      },
      "outputs": [
        {
          "name": "stdout",
          "output_type": "stream",
          "text": [
            "   day_number InvoiceNo StockCode Description  Quantity     InvoiceDate  \\\n",
            "0          90    545332         M      Manual         1  03/01/11 03:52   \n",
            "1         337    574252         M      Manual         1  11/03/11 01:24   \n",
            "\n",
            "   UnitPrice CustomerID Country                mind                maxd  \n",
            "0     183.75      12352  Norway 2010-12-01 01:04:00 2011-12-09 12:50:00  \n",
            "1       0.00      12437  France 2010-12-01 01:04:00 2011-12-09 12:50:00  \n"
          ]
        },
        {
          "data": {
            "text/html": [
              "<div>\n",
              "<style scoped>\n",
              "    .dataframe tbody tr th:only-of-type {\n",
              "        vertical-align: middle;\n",
              "    }\n",
              "\n",
              "    .dataframe tbody tr th {\n",
              "        vertical-align: top;\n",
              "    }\n",
              "\n",
              "    .dataframe thead th {\n",
              "        text-align: right;\n",
              "    }\n",
              "</style>\n",
              "<table border=\"1\" class=\"dataframe\">\n",
              "  <thead>\n",
              "    <tr style=\"text-align: right;\">\n",
              "      <th></th>\n",
              "      <th>day_number</th>\n",
              "      <th>Quantity</th>\n",
              "      <th>UnitPrice</th>\n",
              "    </tr>\n",
              "  </thead>\n",
              "  <tbody>\n",
              "    <tr>\n",
              "      <th>count</th>\n",
              "      <td>7974.000000</td>\n",
              "      <td>7974.000000</td>\n",
              "      <td>7974.000000</td>\n",
              "    </tr>\n",
              "    <tr>\n",
              "      <th>mean</th>\n",
              "      <td>221.630298</td>\n",
              "      <td>12.244043</td>\n",
              "      <td>3.088569</td>\n",
              "    </tr>\n",
              "    <tr>\n",
              "      <th>std</th>\n",
              "      <td>112.506385</td>\n",
              "      <td>43.805342</td>\n",
              "      <td>7.036266</td>\n",
              "    </tr>\n",
              "    <tr>\n",
              "      <th>min</th>\n",
              "      <td>0.000000</td>\n",
              "      <td>-144.000000</td>\n",
              "      <td>0.000000</td>\n",
              "    </tr>\n",
              "    <tr>\n",
              "      <th>25%</th>\n",
              "      <td>130.000000</td>\n",
              "      <td>2.000000</td>\n",
              "      <td>1.250000</td>\n",
              "    </tr>\n",
              "    <tr>\n",
              "      <th>50%</th>\n",
              "      <td>240.000000</td>\n",
              "      <td>5.000000</td>\n",
              "      <td>1.950000</td>\n",
              "    </tr>\n",
              "    <tr>\n",
              "      <th>75%</th>\n",
              "      <td>323.000000</td>\n",
              "      <td>12.000000</td>\n",
              "      <td>3.750000</td>\n",
              "    </tr>\n",
              "    <tr>\n",
              "      <th>max</th>\n",
              "      <td>373.000000</td>\n",
              "      <td>1500.000000</td>\n",
              "      <td>295.000000</td>\n",
              "    </tr>\n",
              "  </tbody>\n",
              "</table>\n",
              "</div>"
            ],
            "text/plain": [
              "        day_number     Quantity    UnitPrice\n",
              "count  7974.000000  7974.000000  7974.000000\n",
              "mean    221.630298    12.244043     3.088569\n",
              "std     112.506385    43.805342     7.036266\n",
              "min       0.000000  -144.000000     0.000000\n",
              "25%     130.000000     2.000000     1.250000\n",
              "50%     240.000000     5.000000     1.950000\n",
              "75%     323.000000    12.000000     3.750000\n",
              "max     373.000000  1500.000000   295.000000"
            ]
          },
          "execution_count": 88,
          "metadata": {
            "tags": []
          },
          "output_type": "execute_result"
        }
      ],
      "source": [
        "qry_original = \"\"\"\n",
        "SELECT\n",
        "  DATETIME_DIFF(\n",
        "    PARSE_DATETIME(\"%m/%d/%y %H:%M\", InvoiceDate), mm.mind, DAY) AS day_number,\n",
        "  *\n",
        "FROM\n",
        "  `{p}.{d}.{t}`,\n",
        "  (\n",
        "  SELECT\n",
        "    MIN(PARSE_DATETIME(\"%m/%d/%y %H:%M\", InvoiceDate)) mind,\n",
        "    MAX(PARSE_DATETIME(\"%m/%d/%y %H:%M\", InvoiceDate)) maxd\n",
        "  FROM\n",
        "    `{p}.{d}.{t}`) mm {w}\n",
        "\"\"\"\n",
        "\n",
        "where_sample = \"\"\"\n",
        "WHERE\n",
        "  -- 1 in 50 so we get about 500000 records out of 10000\n",
        "  MOD(ABS(FARM_FINGERPRINT( \n",
        "    CONCAT(\n",
        "      CAST(InvoiceNo AS STRING),\n",
        "      CAST(Quantity AS STRING),\n",
        "      CAST(InvoiceDate AS STRING),\n",
        "      CAST(UnitPrice AS STRING),\n",
        "      CAST(CustomerID AS STRING)\n",
        "    ) )), 50) = 1\n",
        "\"\"\"\n",
        "\n",
        "df_original = pd.io.gbq.read_gbq(qry_original.format(p=PROJECT_ID, d=DATASET, t=TABLE, w=where_sample), \n",
        "                                 project_id=PROJECT_ID, \n",
        "                                 dialect='standard')\n",
        "\n",
        "print(df_original.head(2))\n",
        "df_original.describe()"
      ]
    },
    {
      "cell_type": "code",
      "execution_count": 5,
      "metadata": {},
      "outputs": [
        {
          "name": "stdout",
          "output_type": "stream",
          "text": [
            "  InvoiceNo StockCode                         Description  Quantity  \\\n",
            "0    536365    85123A  WHITE HANGING HEART T-LIGHT HOLDER         6   \n",
            "\n",
            "      InvoiceDate  UnitPrice  CustomerID         Country  \n",
            "0  12/1/2010 8:26       2.55     17850.0  United Kingdom  \n"
          ]
        },
        {
          "data": {
            "text/html": [
              "<div>\n",
              "<style scoped>\n",
              "    .dataframe tbody tr th:only-of-type {\n",
              "        vertical-align: middle;\n",
              "    }\n",
              "\n",
              "    .dataframe tbody tr th {\n",
              "        vertical-align: top;\n",
              "    }\n",
              "\n",
              "    .dataframe thead th {\n",
              "        text-align: right;\n",
              "    }\n",
              "</style>\n",
              "<table border=\"1\" class=\"dataframe\">\n",
              "  <thead>\n",
              "    <tr style=\"text-align: right;\">\n",
              "      <th></th>\n",
              "      <th>Quantity</th>\n",
              "      <th>UnitPrice</th>\n",
              "      <th>CustomerID</th>\n",
              "    </tr>\n",
              "  </thead>\n",
              "  <tbody>\n",
              "    <tr>\n",
              "      <th>count</th>\n",
              "      <td>541909.000000</td>\n",
              "      <td>541909.000000</td>\n",
              "      <td>406829.000000</td>\n",
              "    </tr>\n",
              "    <tr>\n",
              "      <th>mean</th>\n",
              "      <td>9.552250</td>\n",
              "      <td>4.611114</td>\n",
              "      <td>15287.690570</td>\n",
              "    </tr>\n",
              "    <tr>\n",
              "      <th>std</th>\n",
              "      <td>218.081158</td>\n",
              "      <td>96.759853</td>\n",
              "      <td>1713.600303</td>\n",
              "    </tr>\n",
              "    <tr>\n",
              "      <th>min</th>\n",
              "      <td>-80995.000000</td>\n",
              "      <td>-11062.060000</td>\n",
              "      <td>12346.000000</td>\n",
              "    </tr>\n",
              "    <tr>\n",
              "      <th>25%</th>\n",
              "      <td>1.000000</td>\n",
              "      <td>1.250000</td>\n",
              "      <td>13953.000000</td>\n",
              "    </tr>\n",
              "    <tr>\n",
              "      <th>50%</th>\n",
              "      <td>3.000000</td>\n",
              "      <td>2.080000</td>\n",
              "      <td>15152.000000</td>\n",
              "    </tr>\n",
              "    <tr>\n",
              "      <th>75%</th>\n",
              "      <td>10.000000</td>\n",
              "      <td>4.130000</td>\n",
              "      <td>16791.000000</td>\n",
              "    </tr>\n",
              "    <tr>\n",
              "      <th>max</th>\n",
              "      <td>80995.000000</td>\n",
              "      <td>38970.000000</td>\n",
              "      <td>18287.000000</td>\n",
              "    </tr>\n",
              "  </tbody>\n",
              "</table>\n",
              "</div>"
            ],
            "text/plain": [
              "            Quantity      UnitPrice     CustomerID\n",
              "count  541909.000000  541909.000000  406829.000000\n",
              "mean        9.552250       4.611114   15287.690570\n",
              "std       218.081158      96.759853    1713.600303\n",
              "min    -80995.000000  -11062.060000   12346.000000\n",
              "25%         1.000000       1.250000   13953.000000\n",
              "50%         3.000000       2.080000   15152.000000\n",
              "75%        10.000000       4.130000   16791.000000\n",
              "max     80995.000000   38970.000000   18287.000000"
            ]
          },
          "execution_count": 5,
          "metadata": {},
          "output_type": "execute_result"
        }
      ],
      "source": [
        "# df_original = pd.read_excel('../data/Online_Retail.xlsx')\n",
        "df_original = pd.read_csv('../data/Online_Retail.csv')\n",
        "print(df_original.head(1))\n",
        "df_original.describe()"
      ]
    },
    {
      "cell_type": "code",
      "execution_count": 17,
      "metadata": {},
      "outputs": [],
      "source": [
        "# raw_df = df_original\n",
        "# df_original = raw_df"
      ]
    },
    {
      "cell_type": "code",
      "execution_count": 30,
      "metadata": {},
      "outputs": [
        {
          "data": {
            "text/html": [
              "<div>\n",
              "<style scoped>\n",
              "    .dataframe tbody tr th:only-of-type {\n",
              "        vertical-align: middle;\n",
              "    }\n",
              "\n",
              "    .dataframe tbody tr th {\n",
              "        vertical-align: top;\n",
              "    }\n",
              "\n",
              "    .dataframe thead th {\n",
              "        text-align: right;\n",
              "    }\n",
              "</style>\n",
              "<table border=\"1\" class=\"dataframe\">\n",
              "  <thead>\n",
              "    <tr style=\"text-align: right;\">\n",
              "      <th></th>\n",
              "      <th>difference</th>\n",
              "      <th>CustomerID</th>\n",
              "      <th>Quantity</th>\n",
              "      <th>UnitPrice</th>\n",
              "      <th>order_value</th>\n",
              "    </tr>\n",
              "  </thead>\n",
              "  <tbody>\n",
              "    <tr>\n",
              "      <th>86976</th>\n",
              "      <td>44</td>\n",
              "      <td>12901.0</td>\n",
              "      <td>4800</td>\n",
              "      <td>0.21</td>\n",
              "      <td>1008.00</td>\n",
              "    </tr>\n",
              "    <tr>\n",
              "      <th>250567</th>\n",
              "      <td>197</td>\n",
              "      <td>13135.0</td>\n",
              "      <td>4300</td>\n",
              "      <td>0.72</td>\n",
              "      <td>3096.00</td>\n",
              "    </tr>\n",
              "    <tr>\n",
              "      <th>332757</th>\n",
              "      <td>291</td>\n",
              "      <td>18087.0</td>\n",
              "      <td>3906</td>\n",
              "      <td>0.82</td>\n",
              "      <td>3202.92</td>\n",
              "    </tr>\n",
              "    <tr>\n",
              "      <th>205034</th>\n",
              "      <td>143</td>\n",
              "      <td>14609.0</td>\n",
              "      <td>3186</td>\n",
              "      <td>0.06</td>\n",
              "      <td>191.16</td>\n",
              "    </tr>\n",
              "    <tr>\n",
              "      <th>360685</th>\n",
              "      <td>332</td>\n",
              "      <td>15749.0</td>\n",
              "      <td>3114</td>\n",
              "      <td>2.10</td>\n",
              "      <td>6539.40</td>\n",
              "    </tr>\n",
              "    <tr>\n",
              "      <th>...</th>\n",
              "      <td>...</td>\n",
              "      <td>...</td>\n",
              "      <td>...</td>\n",
              "      <td>...</td>\n",
              "      <td>...</td>\n",
              "    </tr>\n",
              "    <tr>\n",
              "      <th>122364</th>\n",
              "      <td>66</td>\n",
              "      <td>14533.0</td>\n",
              "      <td>-1200</td>\n",
              "      <td>0.07</td>\n",
              "      <td>-84.00</td>\n",
              "    </tr>\n",
              "    <tr>\n",
              "      <th>112969</th>\n",
              "      <td>60</td>\n",
              "      <td>16029.0</td>\n",
              "      <td>-1296</td>\n",
              "      <td>3.18</td>\n",
              "      <td>-4121.28</td>\n",
              "    </tr>\n",
              "    <tr>\n",
              "      <th>283720</th>\n",
              "      <td>235</td>\n",
              "      <td>15749.0</td>\n",
              "      <td>-1300</td>\n",
              "      <td>2.55</td>\n",
              "      <td>-3315.00</td>\n",
              "    </tr>\n",
              "    <tr>\n",
              "      <th>265564</th>\n",
              "      <td>211</td>\n",
              "      <td>18133.0</td>\n",
              "      <td>-1350</td>\n",
              "      <td>0.16</td>\n",
              "      <td>-216.00</td>\n",
              "    </tr>\n",
              "    <tr>\n",
              "      <th>389886</th>\n",
              "      <td>372</td>\n",
              "      <td>15838.0</td>\n",
              "      <td>-9360</td>\n",
              "      <td>0.03</td>\n",
              "      <td>-280.80</td>\n",
              "    </tr>\n",
              "  </tbody>\n",
              "</table>\n",
              "<p>392503 rows × 5 columns</p>\n",
              "</div>"
            ],
            "text/plain": [
              "        difference  CustomerID  Quantity  UnitPrice  order_value\n",
              "86976           44     12901.0      4800       0.21      1008.00\n",
              "250567         197     13135.0      4300       0.72      3096.00\n",
              "332757         291     18087.0      3906       0.82      3202.92\n",
              "205034         143     14609.0      3186       0.06       191.16\n",
              "360685         332     15749.0      3114       2.10      6539.40\n",
              "...            ...         ...       ...        ...          ...\n",
              "122364          66     14533.0     -1200       0.07       -84.00\n",
              "112969          60     16029.0     -1296       3.18     -4121.28\n",
              "283720         235     15749.0     -1300       2.55     -3315.00\n",
              "265564         211     18133.0     -1350       0.16      -216.00\n",
              "389886         372     15838.0     -9360       0.03      -280.80\n",
              "\n",
              "[392503 rows x 5 columns]"
            ]
          },
          "execution_count": 30,
          "metadata": {},
          "output_type": "execute_result"
        }
      ],
      "source": [
        "def config(df_original):\n",
        "    # Copy df\n",
        "    df = df_original.copy()\n",
        "\n",
        "    # Change date to datetime object\n",
        "    df['InvoiceDate'] = pd.to_datetime(df['InvoiceDate'])\n",
        "\n",
        "    # Find difference in dates\n",
        "    today = np.max(df['InvoiceDate'])\n",
        "    difference = df['InvoiceDate'] - today\n",
        "    df['difference'] = abs(difference.dt.days)\n",
        "    \n",
        "    # Get day from datetime\n",
        "    # df['day_number'] = df['InvoiceDate'].dt.day_of_year\n",
        "\n",
        "    # Group\n",
        "    df = df.groupby(by=['difference', 'CustomerID', 'StockCode']).sum().reset_index().sort_values(by=['Quantity'], ascending=False)\n",
        "\n",
        "    # Crear variables\n",
        "    df['order_value'] = df['Quantity'] * df['UnitPrice']\n",
        "\n",
        "    # Quitar variables\n",
        "    df = df.drop(columns=['StockCode'])\n",
        "\n",
        "    # Keep only records with + Quantity and + order_value OR - Quantity\n",
        "    df = df[(df['Quantity'] > 0) & (df['order_value'] > 0) | (df['Quantity'] < 0)]\n",
        "    \n",
        "    return df\n",
        "\n",
        "config(df_original)"
      ]
    },
    {
      "cell_type": "code",
      "execution_count": 15,
      "metadata": {
        "colab": {
          "base_uri": "https://localhost:8080/",
          "height": 609
        },
        "colab_type": "code",
        "id": "nPxHxgGoaUH5",
        "outputId": "ef6a3b05-e26f-4f21-bf81-1b23c0934716"
      },
      "outputs": [
        {
          "data": {
            "text/plain": [
              "<AxesSubplot:xlabel='day_number', ylabel='Density'>"
            ]
          },
          "execution_count": 15,
          "metadata": {},
          "output_type": "execute_result"
        },
        {
          "data": {
            "image/png": "[encoded data removed]",
            "text/plain": [
              "<Figure size 1440x720 with 4 Axes>"
            ]
          },
          "metadata": {
            "needs_background": "light"
          },
          "output_type": "display_data"
        }
      ],
      "source": [
        "fig, axs = plt.subplots(nrows=2, ncols=2, figsize=(20, 10))\n",
        "\n",
        "# distplot not as easy to clip\n",
        "# sns.distplot( df_original['Quantity'], ax=axs[0], label='quantity')\n",
        "# sns.distplot(df_original['UnitPrice'], ax=axs[1], label='price')\n",
        "\n",
        "sns.kdeplot(df_original['Quantity'], ax=axs[0, 0], label='quantity', clip=(-50, 100))\n",
        "sns.kdeplot(df_original['UnitPrice'], ax=axs[0, 1], label='price', clip=(-50, 5000))\n",
        "sns.kdeplot(df_original['day_number'], ax=axs[1, 0], label='days')"
      ]
    },
    {
      "cell_type": "code",
      "execution_count": 16,
      "metadata": {
        "colab": {
          "base_uri": "https://localhost:8080/",
          "height": 402
        },
        "colab_type": "code",
        "id": "NShPt-5udbOg",
        "outputId": "f42df0c4-ed4d-4fbc-dfec-fbc5e7b75777"
      },
      "outputs": [
        {
          "data": {
            "image/png": "[encoded data removed]",
            "text/plain": [
              "<Figure size 1440x360 with 4 Axes>"
            ]
          },
          "metadata": {
            "needs_background": "light"
          },
          "output_type": "display_data"
        }
      ],
      "source": [
        "figv, axsv = plt.subplots(nrows=2, ncols=2, figsize=(20, 5))\n",
        "\n",
        "axq = sns.violinplot(x=df_original[\"Quantity\"], ax=axsv[0, 0])\n",
        "axq.set_xlim(-100, 100)\n",
        "\n",
        "axp = sns.violinplot(x=df_original[\"UnitPrice\"], ax=axsv[0, 1])\n",
        "axp.set_xlim(-10, 40)\n",
        "\n",
        "axd = sns.violinplot(x=df_original[\"day_number\"], ax=axsv[1, 0])"
      ]
    },
    {
      "cell_type": "markdown",
      "metadata": {
        "colab_type": "text",
        "id": "QWzOIIq_Gpui"
      },
      "source": [
        "Day 250 seems to represent a decent threshold data (more than 50% of the orders happened before that day but less than 75%\n",
        "\n",
        "Would use this query:"
      ]
    },
    {
      "cell_type": "code",
      "execution_count": null,
      "metadata": {
        "colab": {},
        "colab_type": "code",
        "id": "Ur3i5h1qJx4Z"
      },
      "outputs": [],
      "source": [
        "threshold_qry = \"\"\"\n",
        "SELECT\n",
        "  DATETIME_ADD(mind, INTERVAL 250 DAY)\n",
        "FROM\n",
        "  (\n",
        "  SELECT\n",
        "    MIN(PARSE_DATETIME(\"%m/%d/%y %H:%M\", InvoiceDate)) mind,\n",
        "    MAX(PARSE_DATETIME(\"%m/%d/%y %H:%M\", InvoiceDate)) maxd\n",
        "  FROM\n",
        "    `{}.{}.{}`) mm\n",
        "\"\"\""
      ]
    },
    {
      "cell_type": "markdown",
      "metadata": {
        "colab_type": "text",
        "id": "wuzX4obrSnwb"
      },
      "source": [
        "### RFMT"
      ]
    },
    {
      "cell_type": "code",
      "execution_count": 52,
      "metadata": {
        "colab": {
          "base_uri": "https://localhost:8080/",
          "height": 348
        },
        "colab_type": "code",
        "id": "qwKjxIeNSnwc",
        "outputId": "2e0538c8-9f00-4c69-eb6d-a1500441738b"
      },
      "outputs": [
        {
          "name": "stdout",
          "output_type": "stream",
          "text": [
            "  customer_id  num_transactions\n",
            "0       16915                 5\n",
            "1       15349                 1\n"
          ]
        },
        {
          "data": {
            "text/html": [
              "<div>\n",
              "<style scoped>\n",
              "    .dataframe tbody tr th:only-of-type {\n",
              "        vertical-align: middle;\n",
              "    }\n",
              "\n",
              "    .dataframe tbody tr th {\n",
              "        vertical-align: top;\n",
              "    }\n",
              "\n",
              "    .dataframe thead th {\n",
              "        text-align: right;\n",
              "    }\n",
              "</style>\n",
              "<table border=\"1\" class=\"dataframe\">\n",
              "  <thead>\n",
              "    <tr style=\"text-align: right;\">\n",
              "      <th></th>\n",
              "      <th>num_transactions</th>\n",
              "    </tr>\n",
              "  </thead>\n",
              "  <tbody>\n",
              "    <tr>\n",
              "      <th>count</th>\n",
              "      <td>1650.000000</td>\n",
              "    </tr>\n",
              "    <tr>\n",
              "      <th>mean</th>\n",
              "      <td>7.436364</td>\n",
              "    </tr>\n",
              "    <tr>\n",
              "      <th>std</th>\n",
              "      <td>9.308011</td>\n",
              "    </tr>\n",
              "    <tr>\n",
              "      <th>min</th>\n",
              "      <td>1.000000</td>\n",
              "    </tr>\n",
              "    <tr>\n",
              "      <th>25%</th>\n",
              "      <td>3.000000</td>\n",
              "    </tr>\n",
              "    <tr>\n",
              "      <th>50%</th>\n",
              "      <td>5.000000</td>\n",
              "    </tr>\n",
              "    <tr>\n",
              "      <th>75%</th>\n",
              "      <td>9.000000</td>\n",
              "    </tr>\n",
              "    <tr>\n",
              "      <th>max</th>\n",
              "      <td>141.000000</td>\n",
              "    </tr>\n",
              "  </tbody>\n",
              "</table>\n",
              "</div>"
            ],
            "text/plain": [
              "       num_transactions\n",
              "count       1650.000000\n",
              "mean           7.436364\n",
              "std            9.308011\n",
              "min            1.000000\n",
              "25%            3.000000\n",
              "50%            5.000000\n",
              "75%            9.000000\n",
              "max          141.000000"
            ]
          },
          "execution_count": 52,
          "metadata": {
            "tags": []
          },
          "output_type": "execute_result"
        }
      ],
      "source": [
        "# Frequency of Repeat transaction\n",
        "repeat_transactions_query = \"\"\"\n",
        "SELECT\n",
        "  customer_id,\n",
        "  COUNT(DISTINCT order_date) -1 AS num_transactions\n",
        "FROM\n",
        "  `{}.{}.data_cleaned`\n",
        "GROUP BY\n",
        "  customer_id\"\"\"\n",
        "repeat_transactions_query = repeat_transactions_query.format(PROJECT_ID, DATASET)\n",
        "\n",
        "df_repeat_transactions = pd.io.gbq.read_gbq(query=repeat_transactions_query, dialect ='standard', project_id=PROJECT_ID)\n",
        "print(df_repeat_transactions.head(2))\n",
        "df_repeat_transactions.describe()"
      ]
    },
    {
      "cell_type": "code",
      "execution_count": 60,
      "metadata": {
        "colab": {
          "base_uri": "https://localhost:8080/",
          "height": 337
        },
        "colab_type": "code",
        "id": "v3pFNR9mSnwf",
        "outputId": "5c19fd34-8d3e-41d4-c1cc-23ba6ce96e57"
      },
      "outputs": [
        {
          "data": {
            "text/plain": [
              "<matplotlib.axes._subplots.AxesSubplot at 0x7f688c044908>"
            ]
          },
          "execution_count": 60,
          "metadata": {
            "tags": []
          },
          "output_type": "execute_result"
        },
        {
          "data": {
            "image/png": "[encoded data removed]",
            "text/plain": [
              "<matplotlib.figure.Figure at 0x7f68955abd68>"
            ]
          },
          "metadata": {
            "tags": []
          },
          "output_type": "display_data"
        }
      ],
      "source": [
        "fig, axs = plt.subplots(figsize=(10, 5))\n",
        "sns.kdeplot(df_repeat_transactions['num_transactions'])"
      ]
    },
    {
      "cell_type": "code",
      "execution_count": 55,
      "metadata": {
        "colab": {
          "base_uri": "https://localhost:8080/",
          "height": 348
        },
        "colab_type": "code",
        "id": "hs55GnZbSnwh",
        "outputId": "c64a274b-9ce9-48a5-a30a-7981f3f5d6e5"
      },
      "outputs": [
        {
          "name": "stdout",
          "output_type": "stream",
          "text": [
            "  customer_id  recency\n",
            "0       16676      304\n",
            "1       12901      262\n"
          ]
        },
        {
          "data": {
            "text/html": [
              "<div>\n",
              "<style scoped>\n",
              "    .dataframe tbody tr th:only-of-type {\n",
              "        vertical-align: middle;\n",
              "    }\n",
              "\n",
              "    .dataframe tbody tr th {\n",
              "        vertical-align: top;\n",
              "    }\n",
              "\n",
              "    .dataframe thead th {\n",
              "        text-align: right;\n",
              "    }\n",
              "</style>\n",
              "<table border=\"1\" class=\"dataframe\">\n",
              "  <thead>\n",
              "    <tr style=\"text-align: right;\">\n",
              "      <th></th>\n",
              "      <th>recency</th>\n",
              "    </tr>\n",
              "  </thead>\n",
              "  <tbody>\n",
              "    <tr>\n",
              "      <th>count</th>\n",
              "      <td>1650.000000</td>\n",
              "    </tr>\n",
              "    <tr>\n",
              "      <th>mean</th>\n",
              "      <td>256.879394</td>\n",
              "    </tr>\n",
              "    <tr>\n",
              "      <th>std</th>\n",
              "      <td>90.692561</td>\n",
              "    </tr>\n",
              "    <tr>\n",
              "      <th>min</th>\n",
              "      <td>1.000000</td>\n",
              "    </tr>\n",
              "    <tr>\n",
              "      <th>25%</th>\n",
              "      <td>197.250000</td>\n",
              "    </tr>\n",
              "    <tr>\n",
              "      <th>50%</th>\n",
              "      <td>272.500000</td>\n",
              "    </tr>\n",
              "    <tr>\n",
              "      <th>75%</th>\n",
              "      <td>337.750000</td>\n",
              "    </tr>\n",
              "    <tr>\n",
              "      <th>max</th>\n",
              "      <td>373.000000</td>\n",
              "    </tr>\n",
              "  </tbody>\n",
              "</table>\n",
              "</div>"
            ],
            "text/plain": [
              "           recency\n",
              "count  1650.000000\n",
              "mean    256.879394\n",
              "std      90.692561\n",
              "min       1.000000\n",
              "25%     197.250000\n",
              "50%     272.500000\n",
              "75%     337.750000\n",
              "max     373.000000"
            ]
          },
          "execution_count": 55,
          "metadata": {
            "tags": []
          },
          "output_type": "execute_result"
        }
      ],
      "source": [
        "recency_query = \"\"\"\n",
        "SELECT\n",
        "  customer_id,\n",
        "  DATE_DIFF(MAX(order_date), MIN(order_date), DAY) recency\n",
        "FROM\n",
        "  `{}.{}.data_cleaned`\n",
        "GROUP BY\n",
        "  customer_id\"\"\"\n",
        "recency_query = recency_query.format(PROJECT_ID, DATASET)\n",
        "\n",
        "df_recency = pd.io.gbq.read_gbq(query=recency_query, dialect ='standard', project_id=PROJECT_ID)\n",
        "print(df_recency.head(2))\n",
        "df_recency.describe()"
      ]
    },
    {
      "cell_type": "code",
      "execution_count": 59,
      "metadata": {
        "colab": {
          "base_uri": "https://localhost:8080/",
          "height": 337
        },
        "colab_type": "code",
        "id": "AlykZLJvSnwk",
        "outputId": "21a069d0-e3e3-4cef-e866-808905d3559e"
      },
      "outputs": [
        {
          "data": {
            "text/plain": [
              "<matplotlib.axes._subplots.AxesSubplot at 0x7f6890f883c8>"
            ]
          },
          "execution_count": 59,
          "metadata": {
            "tags": []
          },
          "output_type": "execute_result"
        },
        {
          "data": {
            "image/png": "[encoded data removed]",
            "text/plain": [
              "<matplotlib.figure.Figure at 0x7f6888cbc710>"
            ]
          },
          "metadata": {
            "tags": []
          },
          "output_type": "display_data"
        }
      ],
      "source": [
        "fig, axs = plt.subplots(figsize=(10, 5))\n",
        "sns.kdeplot(df_recency['recency'])"
      ]
    },
    {
      "cell_type": "markdown",
      "metadata": {
        "colab_type": "text",
        "id": "-QzWVNOISnwn"
      },
      "source": [
        "### Monetary"
      ]
    },
    {
      "cell_type": "code",
      "execution_count": 57,
      "metadata": {
        "colab": {
          "base_uri": "https://localhost:8080/",
          "height": 348
        },
        "colab_type": "code",
        "id": "V8XjN--xSnwn",
        "outputId": "086e0800-8a7d-408a-a483-ef0dacd9a068"
      },
      "outputs": [
        {
          "name": "stdout",
          "output_type": "stream",
          "text": [
            "  customer_id  monetary\n",
            "0       16676   1558.72\n",
            "1       12901  16293.10\n"
          ]
        },
        {
          "data": {
            "text/html": [
              "<div>\n",
              "<style scoped>\n",
              "    .dataframe tbody tr th:only-of-type {\n",
              "        vertical-align: middle;\n",
              "    }\n",
              "\n",
              "    .dataframe tbody tr th {\n",
              "        vertical-align: top;\n",
              "    }\n",
              "\n",
              "    .dataframe thead th {\n",
              "        text-align: right;\n",
              "    }\n",
              "</style>\n",
              "<table border=\"1\" class=\"dataframe\">\n",
              "  <thead>\n",
              "    <tr style=\"text-align: right;\">\n",
              "      <th></th>\n",
              "      <th>monetary</th>\n",
              "    </tr>\n",
              "  </thead>\n",
              "  <tbody>\n",
              "    <tr>\n",
              "      <th>count</th>\n",
              "      <td>1650.000000</td>\n",
              "    </tr>\n",
              "    <tr>\n",
              "      <th>mean</th>\n",
              "      <td>3973.304164</td>\n",
              "    </tr>\n",
              "    <tr>\n",
              "      <th>std</th>\n",
              "      <td>12993.748834</td>\n",
              "    </tr>\n",
              "    <tr>\n",
              "      <th>min</th>\n",
              "      <td>36.560000</td>\n",
              "    </tr>\n",
              "    <tr>\n",
              "      <th>25%</th>\n",
              "      <td>935.362500</td>\n",
              "    </tr>\n",
              "    <tr>\n",
              "      <th>50%</th>\n",
              "      <td>1767.770000</td>\n",
              "    </tr>\n",
              "    <tr>\n",
              "      <th>75%</th>\n",
              "      <td>3429.125000</td>\n",
              "    </tr>\n",
              "    <tr>\n",
              "      <th>max</th>\n",
              "      <td>279489.020000</td>\n",
              "    </tr>\n",
              "  </tbody>\n",
              "</table>\n",
              "</div>"
            ],
            "text/plain": [
              "            monetary\n",
              "count    1650.000000\n",
              "mean     3973.304164\n",
              "std     12993.748834\n",
              "min        36.560000\n",
              "25%       935.362500\n",
              "50%      1767.770000\n",
              "75%      3429.125000\n",
              "max    279489.020000"
            ]
          },
          "execution_count": 57,
          "metadata": {
            "tags": []
          },
          "output_type": "execute_result"
        }
      ],
      "source": [
        "monetary_query = \"\"\"\n",
        "SELECT\n",
        "  customer_id,\n",
        "  SUM(order_value) AS monetary\n",
        "FROM\n",
        "  `{}.{}.data_cleaned`\n",
        "GROUP BY\n",
        "  customer_id\"\"\"\n",
        "monetary_query = monetary_query.format(PROJECT_ID, DATASET)\n",
        "\n",
        "df_monetary = pd.io.gbq.read_gbq(query=monetary_query, dialect ='standard', project_id=PROJECT_ID)\n",
        "print(df_monetary.head(2))\n",
        "df_monetary.describe()"
      ]
    },
    {
      "cell_type": "code",
      "execution_count": 76,
      "metadata": {
        "colab": {
          "base_uri": "https://localhost:8080/",
          "height": 337
        },
        "colab_type": "code",
        "id": "BpyOyOIfSnwq",
        "outputId": "b7d45413-777a-495f-b2f8-3eff30a52c3c"
      },
      "outputs": [
        {
          "data": {
            "text/plain": [
              "<matplotlib.axes._subplots.AxesSubplot at 0x7f688b4d99e8>"
            ]
          },
          "execution_count": 76,
          "metadata": {
            "tags": []
          },
          "output_type": "execute_result"
        },
        {
          "data": {
            "image/png": "[encoded data removed]",
            "text/plain": [
              "<matplotlib.figure.Figure at 0x7f688be1bb70>"
            ]
          },
          "metadata": {
            "tags": []
          },
          "output_type": "display_data"
        }
      ],
      "source": [
        "fig, axs = plt.subplots(figsize=(10, 5))\n",
        "sns.kdeplot(df_monetary['monetary'], clip=(-1000, 15000))"
      ]
    },
    {
      "cell_type": "markdown",
      "metadata": {
        "colab_type": "text",
        "id": "N0icT7seXwu1"
      },
      "source": [
        "We can clip the monetary data at 15000"
      ]
    },
    {
      "cell_type": "code",
      "execution_count": null,
      "metadata": {
        "colab": {},
        "colab_type": "code",
        "id": "Zr3JO8KXTQm-"
      },
      "outputs": [],
      "source": []
    }
  ],
  "metadata": {
    "colab": {
      "name": "Exploration.ipynb",
      "provenance": [],
      "version": "0.3.2"
    },
    "kernelspec": {
      "display_name": "Python 3.10.2 ('venv': venv)",
      "language": "python",
      "name": "python3"
    },
    "language_info": {
      "codemirror_mode": {
        "name": "ipython",
        "version": 3
      },
      "file_extension": ".py",
      "mimetype": "text/x-python",
      "name": "python",
      "nbconvert_exporter": "python",
      "pygments_lexer": "ipython3",
      "version": "3.10.2"
    },
    "vscode": {
      "interpreter": {
        "hash": "7291f20e8239ec4984b4585b19847974520759b2c657acc280a2eaf39f9e80d1"
      }
    }
  },
  "nbformat": 4,
  "nbformat_minor": 0
}
