{
  "cells": [
    {
      "cell_type": "code",
      "execution_count": null,
      "metadata": {
        "colab": {
          "base_uri": "https://localhost:8080/",
          "height": 17
        },
        "colab_type": "code",
        "id": "0jifCBTzSnwO",
        "outputId": "a17521de-b813-4125-b238-5b656578db25"
      },
      "outputs": [
        {
          "data": {
            "application/javascript": "IPython.OutputArea.prototype._should_scroll = function(lines) {\n    return false;\n}",
            "text/plain": [
              "<IPython.core.display.Javascript object>"
            ]
          },
          "metadata": {
            "tags": []
          },
          "output_type": "display_data"
        }
      ],
      "source": [
        "# %%javascript\n",
        "# IPython.OutputArea.prototype._should_scroll = function(lines) {\n",
        "#     return false;\n",
        "# }"
      ]
    },
    {
      "cell_type": "code",
      "execution_count": 1,
      "metadata": {
        "colab": {},
        "colab_type": "code",
        "id": "GqvIibXtSnwT"
      },
      "outputs": [],
      "source": [
        "import pandas as pd\n",
        "import numpy as np\n",
        "import matplotlib.pyplot as plt\n",
        "from mpl_toolkits.mplot3d import Axes3D\n",
        "import seaborn as sns\n",
        "from google.cloud import bigquery\n",
        "import calendar\n",
        "import time\n",
        "import os\n",
        "from datetime import datetime"
      ]
    },
    {
      "cell_type": "code",
      "execution_count": null,
      "metadata": {
        "colab": {},
        "colab_type": "code",
        "id": "l2EbQxk8SnwV"
      },
      "outputs": [],
      "source": [
        "PROJECT_ID = '[YOUR-PROJECT-ID]'\n",
        "DATASET = '[YOUR-DATASET]'\n",
        "TABLE = 'data_source'\n",
        "\n",
        "from google.colab import auth\n",
        "auth.authenticate_user()"
      ]
    },
    {
      "cell_type": "markdown",
      "metadata": {
        "colab_type": "text",
        "id": "IRZwAmVtWAW4"
      },
      "source": [
        "### Look at source data"
      ]
    },
    {
      "cell_type": "code",
      "execution_count": 88,
      "metadata": {
        "colab": {
          "base_uri": "https://localhost:8080/",
          "height": 416
        },
        "colab_type": "code",
        "id": "sO2ttiq6V_6M",
        "outputId": "692906c7-e8c2-4303-a253-bda403fb2022"
      },
      "outputs": [
        {
          "name": "stdout",
          "output_type": "stream",
          "text": [
            "   day_number InvoiceNo StockCode Description  Quantity     InvoiceDate  \\\n",
            "0          90    545332         M      Manual         1  03/01/11 03:52   \n",
            "1         337    574252         M      Manual         1  11/03/11 01:24   \n",
            "\n",
            "   UnitPrice CustomerID Country                mind                maxd  \n",
            "0     183.75      12352  Norway 2010-12-01 01:04:00 2011-12-09 12:50:00  \n",
            "1       0.00      12437  France 2010-12-01 01:04:00 2011-12-09 12:50:00  \n"
          ]
        },
        {
          "data": {
            "text/html": [
              "<div>\n",
              "<style scoped>\n",
              "    .dataframe tbody tr th:only-of-type {\n",
              "        vertical-align: middle;\n",
              "    }\n",
              "\n",
              "    .dataframe tbody tr th {\n",
              "        vertical-align: top;\n",
              "    }\n",
              "\n",
              "    .dataframe thead th {\n",
              "        text-align: right;\n",
              "    }\n",
              "</style>\n",
              "<table border=\"1\" class=\"dataframe\">\n",
              "  <thead>\n",
              "    <tr style=\"text-align: right;\">\n",
              "      <th></th>\n",
              "      <th>day_number</th>\n",
              "      <th>Quantity</th>\n",
              "      <th>UnitPrice</th>\n",
              "    </tr>\n",
              "  </thead>\n",
              "  <tbody>\n",
              "    <tr>\n",
              "      <th>count</th>\n",
              "      <td>7974.000000</td>\n",
              "      <td>7974.000000</td>\n",
              "      <td>7974.000000</td>\n",
              "    </tr>\n",
              "    <tr>\n",
              "      <th>mean</th>\n",
              "      <td>221.630298</td>\n",
              "      <td>12.244043</td>\n",
              "      <td>3.088569</td>\n",
              "    </tr>\n",
              "    <tr>\n",
              "      <th>std</th>\n",
              "      <td>112.506385</td>\n",
              "      <td>43.805342</td>\n",
              "      <td>7.036266</td>\n",
              "    </tr>\n",
              "    <tr>\n",
              "      <th>min</th>\n",
              "      <td>0.000000</td>\n",
              "      <td>-144.000000</td>\n",
              "      <td>0.000000</td>\n",
              "    </tr>\n",
              "    <tr>\n",
              "      <th>25%</th>\n",
              "      <td>130.000000</td>\n",
              "      <td>2.000000</td>\n",
              "      <td>1.250000</td>\n",
              "    </tr>\n",
              "    <tr>\n",
              "      <th>50%</th>\n",
              "      <td>240.000000</td>\n",
              "      <td>5.000000</td>\n",
              "      <td>1.950000</td>\n",
              "    </tr>\n",
              "    <tr>\n",
              "      <th>75%</th>\n",
              "      <td>323.000000</td>\n",
              "      <td>12.000000</td>\n",
              "      <td>3.750000</td>\n",
              "    </tr>\n",
              "    <tr>\n",
              "      <th>max</th>\n",
              "      <td>373.000000</td>\n",
              "      <td>1500.000000</td>\n",
              "      <td>295.000000</td>\n",
              "    </tr>\n",
              "  </tbody>\n",
              "</table>\n",
              "</div>"
            ],
            "text/plain": [
              "        day_number     Quantity    UnitPrice\n",
              "count  7974.000000  7974.000000  7974.000000\n",
              "mean    221.630298    12.244043     3.088569\n",
              "std     112.506385    43.805342     7.036266\n",
              "min       0.000000  -144.000000     0.000000\n",
              "25%     130.000000     2.000000     1.250000\n",
              "50%     240.000000     5.000000     1.950000\n",
              "75%     323.000000    12.000000     3.750000\n",
              "max     373.000000  1500.000000   295.000000"
            ]
          },
          "execution_count": 88,
          "metadata": {
            "tags": []
          },
          "output_type": "execute_result"
        }
      ],
      "source": [
        "qry_original = \"\"\"\n",
        "SELECT\n",
        "  DATETIME_DIFF(\n",
        "    PARSE_DATETIME(\"%m/%d/%y %H:%M\", InvoiceDate), mm.mind, DAY) AS day_number,\n",
        "  *\n",
        "FROM\n",
        "  `{p}.{d}.{t}`,\n",
        "  (\n",
        "  SELECT\n",
        "    MIN(PARSE_DATETIME(\"%m/%d/%y %H:%M\", InvoiceDate)) mind,\n",
        "    MAX(PARSE_DATETIME(\"%m/%d/%y %H:%M\", InvoiceDate)) maxd\n",
        "  FROM\n",
        "    `{p}.{d}.{t}`) mm {w}\n",
        "\"\"\"\n",
        "\n",
        "where_sample = \"\"\"\n",
        "WHERE\n",
        "  -- 1 in 50 so we get about 500000 records out of 10000\n",
        "  MOD(ABS(FARM_FINGERPRINT( \n",
        "    CONCAT(\n",
        "      CAST(InvoiceNo AS STRING),\n",
        "      CAST(Quantity AS STRING),\n",
        "      CAST(InvoiceDate AS STRING),\n",
        "      CAST(UnitPrice AS STRING),\n",
        "      CAST(CustomerID AS STRING)\n",
        "    ) )), 50) = 1\n",
        "\"\"\"\n",
        "\n",
        "df_original = pd.io.gbq.read_gbq(qry_original.format(p=PROJECT_ID, d=DATASET, t=TABLE, w=where_sample), \n",
        "                                 project_id=PROJECT_ID, \n",
        "                                 dialect='standard')\n",
        "\n",
        "print(df_original.head(2))\n",
        "df_original.describe()"
      ]
    },
    {
      "cell_type": "code",
      "execution_count": 2,
      "metadata": {},
      "outputs": [
        {
          "name": "stdout",
          "output_type": "stream",
          "text": [
            "  InvoiceNo StockCode                         Description  Quantity  \\\n",
            "0    536365    85123A  WHITE HANGING HEART T-LIGHT HOLDER         6   \n",
            "\n",
            "      InvoiceDate  UnitPrice  CustomerID         Country  \n",
            "0  12/1/2010 8:26       2.55     17850.0  United Kingdom  \n"
          ]
        },
        {
          "data": {
            "text/html": [
              "<div>\n",
              "<style scoped>\n",
              "    .dataframe tbody tr th:only-of-type {\n",
              "        vertical-align: middle;\n",
              "    }\n",
              "\n",
              "    .dataframe tbody tr th {\n",
              "        vertical-align: top;\n",
              "    }\n",
              "\n",
              "    .dataframe thead th {\n",
              "        text-align: right;\n",
              "    }\n",
              "</style>\n",
              "<table border=\"1\" class=\"dataframe\">\n",
              "  <thead>\n",
              "    <tr style=\"text-align: right;\">\n",
              "      <th></th>\n",
              "      <th>Quantity</th>\n",
              "      <th>UnitPrice</th>\n",
              "      <th>CustomerID</th>\n",
              "    </tr>\n",
              "  </thead>\n",
              "  <tbody>\n",
              "    <tr>\n",
              "      <th>count</th>\n",
              "      <td>541909.000000</td>\n",
              "      <td>541909.000000</td>\n",
              "      <td>406829.000000</td>\n",
              "    </tr>\n",
              "    <tr>\n",
              "      <th>mean</th>\n",
              "      <td>9.552250</td>\n",
              "      <td>4.611114</td>\n",
              "      <td>15287.690570</td>\n",
              "    </tr>\n",
              "    <tr>\n",
              "      <th>std</th>\n",
              "      <td>218.081158</td>\n",
              "      <td>96.759853</td>\n",
              "      <td>1713.600303</td>\n",
              "    </tr>\n",
              "    <tr>\n",
              "      <th>min</th>\n",
              "      <td>-80995.000000</td>\n",
              "      <td>-11062.060000</td>\n",
              "      <td>12346.000000</td>\n",
              "    </tr>\n",
              "    <tr>\n",
              "      <th>25%</th>\n",
              "      <td>1.000000</td>\n",
              "      <td>1.250000</td>\n",
              "      <td>13953.000000</td>\n",
              "    </tr>\n",
              "    <tr>\n",
              "      <th>50%</th>\n",
              "      <td>3.000000</td>\n",
              "      <td>2.080000</td>\n",
              "      <td>15152.000000</td>\n",
              "    </tr>\n",
              "    <tr>\n",
              "      <th>75%</th>\n",
              "      <td>10.000000</td>\n",
              "      <td>4.130000</td>\n",
              "      <td>16791.000000</td>\n",
              "    </tr>\n",
              "    <tr>\n",
              "      <th>max</th>\n",
              "      <td>80995.000000</td>\n",
              "      <td>38970.000000</td>\n",
              "      <td>18287.000000</td>\n",
              "    </tr>\n",
              "  </tbody>\n",
              "</table>\n",
              "</div>"
            ],
            "text/plain": [
              "            Quantity      UnitPrice     CustomerID\n",
              "count  541909.000000  541909.000000  406829.000000\n",
              "mean        9.552250       4.611114   15287.690570\n",
              "std       218.081158      96.759853    1713.600303\n",
              "min    -80995.000000  -11062.060000   12346.000000\n",
              "25%         1.000000       1.250000   13953.000000\n",
              "50%         3.000000       2.080000   15152.000000\n",
              "75%        10.000000       4.130000   16791.000000\n",
              "max     80995.000000   38970.000000   18287.000000"
            ]
          },
          "execution_count": 2,
          "metadata": {},
          "output_type": "execute_result"
        }
      ],
      "source": [
        "# df_original = pd.read_excel('../data/Online_Retail.xlsx')\n",
        "df_original = pd.read_csv('../data/Online_Retail.csv')\n",
        "print(df_original.head(1))\n",
        "df_original.describe()"
      ]
    },
    {
      "cell_type": "code",
      "execution_count": 17,
      "metadata": {},
      "outputs": [],
      "source": [
        "# raw_df = df_original\n",
        "# df_original = raw_df"
      ]
    },
    {
      "cell_type": "code",
      "execution_count": 8,
      "metadata": {},
      "outputs": [],
      "source": [
        "def config(df_original):\n",
        "    # Copy df\n",
        "    df = df_original.copy()\n",
        "\n",
        "    # Change date to datetime object\n",
        "    df['InvoiceDate'] = pd.to_datetime(df['InvoiceDate'])\n",
        "\n",
        "    # Find difference in dates\n",
        "    today = np.max(df['InvoiceDate'])\n",
        "    difference = df['InvoiceDate'] - today\n",
        "    df['difference'] = abs(difference.dt.days)\n",
        "    \n",
        "    # Get day from datetime\n",
        "    # df['day_number'] = df['InvoiceDate'].dt.day_of_year\n",
        "\n",
        "    # Group\n",
        "    df = df.groupby(by=['difference', 'CustomerID', 'StockCode']).sum().reset_index().sort_values(by=['Quantity'], ascending=False)\n",
        "\n",
        "    # Crear variables\n",
        "    df['order_value'] = df['Quantity'] * df['UnitPrice']\n",
        "\n",
        "    # Quitar variables\n",
        "    df = df.drop(columns=['StockCode'])\n",
        "\n",
        "    # Keep only records with + Quantity and + order_value OR - Quantity\n",
        "    df = df[(df['Quantity'] > 0) & (df['order_value'] > 0) | (df['Quantity'] < 0)]\n",
        "    \n",
        "    return df\n",
        "\n",
        "df = config(df_original)"
      ]
    },
    {
      "cell_type": "code",
      "execution_count": 19,
      "metadata": {
        "colab": {
          "base_uri": "https://localhost:8080/",
          "height": 609
        },
        "colab_type": "code",
        "id": "nPxHxgGoaUH5",
        "outputId": "ef6a3b05-e26f-4f21-bf81-1b23c0934716"
      },
      "outputs": [
        {
          "name": "stderr",
          "output_type": "stream",
          "text": [
            "/home/milan/Documents/coding/tf_lifetimes/venv/lib/python3.8/site-packages/pandas/core/arraylike.py:397: RuntimeWarning: invalid value encountered in log10\n",
            "  result = getattr(ufunc, method)(*inputs, **kwargs)\n"
          ]
        },
        {
          "data": {
            "text/plain": [
              "<AxesSubplot:xlabel='order_value', ylabel='Density'>"
            ]
          },
          "execution_count": 19,
          "metadata": {},
          "output_type": "execute_result"
        },
        {
          "data": {
            "image/png": "[encoded data removed]",
            "text/plain": [
              "<Figure size 1440x720 with 4 Axes>"
            ]
          },
          "metadata": {
            "needs_background": "light"
          },
          "output_type": "display_data"
        }
      ],
      "source": [
        "fig, axs = plt.subplots(nrows=2, ncols=2, figsize=(20, 10))\n",
        "\n",
        "temp = df.copy()\n",
        "# temp = temp[temp['Quantity'] > 0]\n",
        "# temp = temp[temp['UnitPrice'] < 10]\n",
        "# temp = temp[temp['order_value'] < 50000]\n",
        "\n",
        "\n",
        "# distplot not as easy to clip\n",
        "# sns.distplot( df_original['Quantity'], ax=axs[0], label='quantity')\n",
        "# sns.distplot(df_original['UnitPrice'], ax=axs[1], label='price')\n",
        "\n",
        "sns.kdeplot(temp['Quantity'], ax=axs[0, 0], label='quantity', clip=(-50, 100))\n",
        "sns.kdeplot(temp['UnitPrice'], ax=axs[0, 1], label='price', clip=(-50, 5000), log_scale=True)\n",
        "sns.kdeplot(temp['difference'], ax=axs[1, 0], label='days')\n",
        "sns.kdeplot(temp['order_value'], ax=axs[1, 1], label='Sales', log_scale=True)\n"
      ]
    },
    {
      "cell_type": "code",
      "execution_count": 36,
      "metadata": {
        "colab": {
          "base_uri": "https://localhost:8080/",
          "height": 402
        },
        "colab_type": "code",
        "id": "NShPt-5udbOg",
        "outputId": "f42df0c4-ed4d-4fbc-dfec-fbc5e7b75777"
      },
      "outputs": [
        {
          "data": {
            "text/plain": [
              "(-2500.0, 2500.0)"
            ]
          },
          "execution_count": 36,
          "metadata": {},
          "output_type": "execute_result"
        },
        {
          "data": {
            "image/png": "[encoded data removed]",
            "text/plain": [
              "<Figure size 1440x648 with 4 Axes>"
            ]
          },
          "metadata": {
            "needs_background": "light"
          },
          "output_type": "display_data"
        }
      ],
      "source": [
        "figv, axsv = plt.subplots(nrows=2, ncols=2, figsize=(20, 9))\n",
        "\n",
        "axq = sns.violinplot(x=df[\"Quantity\"], ax=axsv[0, 0])\n",
        "axq.set_xlim(-100, 250)\n",
        "\n",
        "axp = sns.violinplot(x=df[\"UnitPrice\"], ax=axsv[0, 1])\n",
        "axp.set_xlim(-50, 400)\n",
        "\n",
        "axd = sns.violinplot(x=df[\"difference\"], ax=axsv[1, 0])\n",
        "\n",
        "axe = sns.violinplot(x=df[\"order_value\"], ax=axsv[1, 1])\n",
        "axe.set_xlim(-2500, 2500)\n",
        "\n"
      ]
    },
    {
      "cell_type": "markdown",
      "metadata": {
        "colab_type": "text",
        "id": "QWzOIIq_Gpui"
      },
      "source": [
        "Day 250 seems to represent a decent threshold data (more than 50% of the orders happened before that day but less than 75%\n",
        "\n",
        "Would use this query:"
      ]
    },
    {
      "cell_type": "code",
      "execution_count": null,
      "metadata": {
        "colab": {},
        "colab_type": "code",
        "id": "Ur3i5h1qJx4Z"
      },
      "outputs": [],
      "source": [
        "threshold_qry = \"\"\"\n",
        "SELECT\n",
        "  DATETIME_ADD(mind, INTERVAL 250 DAY)\n",
        "FROM\n",
        "  (\n",
        "  SELECT\n",
        "    MIN(PARSE_DATETIME(\"%m/%d/%y %H:%M\", InvoiceDate)) mind,\n",
        "    MAX(PARSE_DATETIME(\"%m/%d/%y %H:%M\", InvoiceDate)) maxd\n",
        "  FROM\n",
        "    `{}.{}.{}`) mm\n",
        "\"\"\""
      ]
    },
    {
      "cell_type": "code",
      "execution_count": 37,
      "metadata": {},
      "outputs": [],
      "source": [
        "sh = df[df['difference'] < 250]"
      ]
    },
    {
      "cell_type": "markdown",
      "metadata": {
        "colab_type": "text",
        "id": "wuzX4obrSnwb"
      },
      "source": [
        "### RFMT"
      ]
    },
    {
      "cell_type": "code",
      "execution_count": 52,
      "metadata": {
        "colab": {
          "base_uri": "https://localhost:8080/",
          "height": 348
        },
        "colab_type": "code",
        "id": "qwKjxIeNSnwc",
        "outputId": "2e0538c8-9f00-4c69-eb6d-a1500441738b"
      },
      "outputs": [
        {
          "name": "stdout",
          "output_type": "stream",
          "text": [
            "  customer_id  num_transactions\n",
            "0       16915                 5\n",
            "1       15349                 1\n"
          ]
        },
        {
          "data": {
            "text/html": [
              "<div>\n",
              "<style scoped>\n",
              "    .dataframe tbody tr th:only-of-type {\n",
              "        vertical-align: middle;\n",
              "    }\n",
              "\n",
              "    .dataframe tbody tr th {\n",
              "        vertical-align: top;\n",
              "    }\n",
              "\n",
              "    .dataframe thead th {\n",
              "        text-align: right;\n",
              "    }\n",
              "</style>\n",
              "<table border=\"1\" class=\"dataframe\">\n",
              "  <thead>\n",
              "    <tr style=\"text-align: right;\">\n",
              "      <th></th>\n",
              "      <th>num_transactions</th>\n",
              "    </tr>\n",
              "  </thead>\n",
              "  <tbody>\n",
              "    <tr>\n",
              "      <th>count</th>\n",
              "      <td>1650.000000</td>\n",
              "    </tr>\n",
              "    <tr>\n",
              "      <th>mean</th>\n",
              "      <td>7.436364</td>\n",
              "    </tr>\n",
              "    <tr>\n",
              "      <th>std</th>\n",
              "      <td>9.308011</td>\n",
              "    </tr>\n",
              "    <tr>\n",
              "      <th>min</th>\n",
              "      <td>1.000000</td>\n",
              "    </tr>\n",
              "    <tr>\n",
              "      <th>25%</th>\n",
              "      <td>3.000000</td>\n",
              "    </tr>\n",
              "    <tr>\n",
              "      <th>50%</th>\n",
              "      <td>5.000000</td>\n",
              "    </tr>\n",
              "    <tr>\n",
              "      <th>75%</th>\n",
              "      <td>9.000000</td>\n",
              "    </tr>\n",
              "    <tr>\n",
              "      <th>max</th>\n",
              "      <td>141.000000</td>\n",
              "    </tr>\n",
              "  </tbody>\n",
              "</table>\n",
              "</div>"
            ],
            "text/plain": [
              "       num_transactions\n",
              "count       1650.000000\n",
              "mean           7.436364\n",
              "std            9.308011\n",
              "min            1.000000\n",
              "25%            3.000000\n",
              "50%            5.000000\n",
              "75%            9.000000\n",
              "max          141.000000"
            ]
          },
          "execution_count": 52,
          "metadata": {
            "tags": []
          },
          "output_type": "execute_result"
        }
      ],
      "source": [
        "# Frequency of Repeat transaction\n",
        "repeat_transactions_query = \"\"\"\n",
        "SELECT\n",
        "  customer_id,\n",
        "  COUNT(DISTINCT order_date) -1 AS num_transactions\n",
        "FROM\n",
        "  `{}.{}.data_cleaned`\n",
        "GROUP BY\n",
        "  customer_id\"\"\"\n",
        "repeat_transactions_query = repeat_transactions_query.format(PROJECT_ID, DATASET)\n",
        "\n",
        "df_repeat_transactions = pd.io.gbq.read_gbq(query=repeat_transactions_query, dialect ='standard', project_id=PROJECT_ID)\n",
        "print(df_repeat_transactions.head(2))\n",
        "df_repeat_transactions.describe()"
      ]
    },
    {
      "cell_type": "code",
      "execution_count": 55,
      "metadata": {},
      "outputs": [
        {
          "data": {
            "text/plain": [
              "14911.0    115\n",
              "17841.0     90\n",
              "12748.0     86\n",
              "15311.0     61\n",
              "14606.0     59\n",
              "          ... \n",
              "15777.0      1\n",
              "15776.0      1\n",
              "15775.0      1\n",
              "15774.0      1\n",
              "15975.0      1\n",
              "Name: frequency, Length: 3861, dtype: int64"
            ]
          },
          "execution_count": 55,
          "metadata": {},
          "output_type": "execute_result"
        }
      ],
      "source": [
        "df_repeat = sh.copy()\n",
        "df_repeat['count'] = 1\n",
        "df_repeat = df_repeat.groupby(by=['CustomerID','difference']).count().reset_index()['CustomerID'].value_counts()\n",
        "df_repeat.name = 'frequency'\n",
        "df_repeat"
      ]
    },
    {
      "cell_type": "code",
      "execution_count": 56,
      "metadata": {
        "colab": {
          "base_uri": "https://localhost:8080/",
          "height": 337
        },
        "colab_type": "code",
        "id": "v3pFNR9mSnwf",
        "outputId": "5c19fd34-8d3e-41d4-c1cc-23ba6ce96e57"
      },
      "outputs": [
        {
          "data": {
            "text/plain": [
              "(-2.0, 20.0)"
            ]
          },
          "execution_count": 56,
          "metadata": {},
          "output_type": "execute_result"
        },
        {
          "data": {
            "image/png": "[encoded data removed]",
            "text/plain": [
              "<Figure size 720x360 with 1 Axes>"
            ]
          },
          "metadata": {
            "needs_background": "light"
          },
          "output_type": "display_data"
        }
      ],
      "source": [
        "fig, axs = plt.subplots(figsize=(10, 5))\n",
        "sns.kdeplot(df_repeat).set_xlim(-2, 20)"
      ]
    },
    {
      "cell_type": "code",
      "execution_count": 65,
      "metadata": {},
      "outputs": [
        {
          "data": {
            "text/html": [
              "<div>\n",
              "<style scoped>\n",
              "    .dataframe tbody tr th:only-of-type {\n",
              "        vertical-align: middle;\n",
              "    }\n",
              "\n",
              "    .dataframe tbody tr th {\n",
              "        vertical-align: top;\n",
              "    }\n",
              "\n",
              "    .dataframe thead th {\n",
              "        text-align: right;\n",
              "    }\n",
              "</style>\n",
              "<table border=\"1\" class=\"dataframe\">\n",
              "  <thead>\n",
              "    <tr style=\"text-align: right;\">\n",
              "      <th></th>\n",
              "      <th>recency</th>\n",
              "    </tr>\n",
              "    <tr>\n",
              "      <th>CustomerID</th>\n",
              "      <th></th>\n",
              "    </tr>\n",
              "  </thead>\n",
              "  <tbody>\n",
              "    <tr>\n",
              "      <th>12347.0</th>\n",
              "      <td>2</td>\n",
              "    </tr>\n",
              "    <tr>\n",
              "      <th>12348.0</th>\n",
              "      <td>75</td>\n",
              "    </tr>\n",
              "    <tr>\n",
              "      <th>12349.0</th>\n",
              "      <td>19</td>\n",
              "    </tr>\n",
              "    <tr>\n",
              "      <th>12352.0</th>\n",
              "      <td>36</td>\n",
              "    </tr>\n",
              "    <tr>\n",
              "      <th>12353.0</th>\n",
              "      <td>204</td>\n",
              "    </tr>\n",
              "    <tr>\n",
              "      <th>...</th>\n",
              "      <td>...</td>\n",
              "    </tr>\n",
              "    <tr>\n",
              "      <th>18278.0</th>\n",
              "      <td>74</td>\n",
              "    </tr>\n",
              "    <tr>\n",
              "      <th>18281.0</th>\n",
              "      <td>181</td>\n",
              "    </tr>\n",
              "    <tr>\n",
              "      <th>18282.0</th>\n",
              "      <td>8</td>\n",
              "    </tr>\n",
              "    <tr>\n",
              "      <th>18283.0</th>\n",
              "      <td>4</td>\n",
              "    </tr>\n",
              "    <tr>\n",
              "      <th>18287.0</th>\n",
              "      <td>43</td>\n",
              "    </tr>\n",
              "  </tbody>\n",
              "</table>\n",
              "<p>3861 rows × 1 columns</p>\n",
              "</div>"
            ],
            "text/plain": [
              "            recency\n",
              "CustomerID         \n",
              "12347.0           2\n",
              "12348.0          75\n",
              "12349.0          19\n",
              "12352.0          36\n",
              "12353.0         204\n",
              "...             ...\n",
              "18278.0          74\n",
              "18281.0         181\n",
              "18282.0           8\n",
              "18283.0           4\n",
              "18287.0          43\n",
              "\n",
              "[3861 rows x 1 columns]"
            ]
          },
          "execution_count": 65,
          "metadata": {},
          "output_type": "execute_result"
        }
      ],
      "source": [
        "df_recency = sh.copy()\n",
        "df_recency['count'] = 1\n",
        "df_recency = df_recency.groupby(by=['CustomerID']).min().reset_index()[['CustomerID', 'difference']]\n",
        "df_recency = df_recency.set_index('CustomerID')\n",
        "df_recency.columns = ['recency']\n",
        "\n",
        "df_recency"
      ]
    },
    {
      "cell_type": "code",
      "execution_count": 55,
      "metadata": {
        "colab": {
          "base_uri": "https://localhost:8080/",
          "height": 348
        },
        "colab_type": "code",
        "id": "hs55GnZbSnwh",
        "outputId": "c64a274b-9ce9-48a5-a30a-7981f3f5d6e5"
      },
      "outputs": [
        {
          "name": "stdout",
          "output_type": "stream",
          "text": [
            "  customer_id  recency\n",
            "0       16676      304\n",
            "1       12901      262\n"
          ]
        },
        {
          "data": {
            "text/html": [
              "<div>\n",
              "<style scoped>\n",
              "    .dataframe tbody tr th:only-of-type {\n",
              "        vertical-align: middle;\n",
              "    }\n",
              "\n",
              "    .dataframe tbody tr th {\n",
              "        vertical-align: top;\n",
              "    }\n",
              "\n",
              "    .dataframe thead th {\n",
              "        text-align: right;\n",
              "    }\n",
              "</style>\n",
              "<table border=\"1\" class=\"dataframe\">\n",
              "  <thead>\n",
              "    <tr style=\"text-align: right;\">\n",
              "      <th></th>\n",
              "      <th>recency</th>\n",
              "    </tr>\n",
              "  </thead>\n",
              "  <tbody>\n",
              "    <tr>\n",
              "      <th>count</th>\n",
              "      <td>1650.000000</td>\n",
              "    </tr>\n",
              "    <tr>\n",
              "      <th>mean</th>\n",
              "      <td>256.879394</td>\n",
              "    </tr>\n",
              "    <tr>\n",
              "      <th>std</th>\n",
              "      <td>90.692561</td>\n",
              "    </tr>\n",
              "    <tr>\n",
              "      <th>min</th>\n",
              "      <td>1.000000</td>\n",
              "    </tr>\n",
              "    <tr>\n",
              "      <th>25%</th>\n",
              "      <td>197.250000</td>\n",
              "    </tr>\n",
              "    <tr>\n",
              "      <th>50%</th>\n",
              "      <td>272.500000</td>\n",
              "    </tr>\n",
              "    <tr>\n",
              "      <th>75%</th>\n",
              "      <td>337.750000</td>\n",
              "    </tr>\n",
              "    <tr>\n",
              "      <th>max</th>\n",
              "      <td>373.000000</td>\n",
              "    </tr>\n",
              "  </tbody>\n",
              "</table>\n",
              "</div>"
            ],
            "text/plain": [
              "           recency\n",
              "count  1650.000000\n",
              "mean    256.879394\n",
              "std      90.692561\n",
              "min       1.000000\n",
              "25%     197.250000\n",
              "50%     272.500000\n",
              "75%     337.750000\n",
              "max     373.000000"
            ]
          },
          "execution_count": 55,
          "metadata": {
            "tags": []
          },
          "output_type": "execute_result"
        }
      ],
      "source": [
        "recency_query = \"\"\"\n",
        "SELECT\n",
        "  customer_id,\n",
        "  DATE_DIFF(MAX(order_date), MIN(order_date), DAY) recency\n",
        "FROM\n",
        "  `{}.{}.data_cleaned`\n",
        "GROUP BY\n",
        "  customer_id\"\"\"\n",
        "recency_query = recency_query.format(PROJECT_ID, DATASET)\n",
        "\n",
        "df_recency = pd.io.gbq.read_gbq(query=recency_query, dialect ='standard', project_id=PROJECT_ID)\n",
        "print(df_recency.head(2))\n",
        "df_recency.describe()"
      ]
    },
    {
      "cell_type": "code",
      "execution_count": 66,
      "metadata": {
        "colab": {
          "base_uri": "https://localhost:8080/",
          "height": 337
        },
        "colab_type": "code",
        "id": "AlykZLJvSnwk",
        "outputId": "21a069d0-e3e3-4cef-e866-808905d3559e"
      },
      "outputs": [
        {
          "data": {
            "text/plain": [
              "<AxesSubplot:xlabel='recency', ylabel='Density'>"
            ]
          },
          "execution_count": 66,
          "metadata": {},
          "output_type": "execute_result"
        },
        {
          "data": {
            "image/png": "[encoded data removed]",
            "text/plain": [
              "<Figure size 720x360 with 1 Axes>"
            ]
          },
          "metadata": {
            "needs_background": "light"
          },
          "output_type": "display_data"
        }
      ],
      "source": [
        "fig, axs = plt.subplots(figsize=(10, 5))\n",
        "sns.kdeplot(df_recency['recency'])"
      ]
    },
    {
      "cell_type": "markdown",
      "metadata": {
        "colab_type": "text",
        "id": "-QzWVNOISnwn"
      },
      "source": [
        "### Monetary"
      ]
    },
    {
      "cell_type": "code",
      "execution_count": 67,
      "metadata": {},
      "outputs": [
        {
          "data": {
            "text/html": [
              "<div>\n",
              "<style scoped>\n",
              "    .dataframe tbody tr th:only-of-type {\n",
              "        vertical-align: middle;\n",
              "    }\n",
              "\n",
              "    .dataframe tbody tr th {\n",
              "        vertical-align: top;\n",
              "    }\n",
              "\n",
              "    .dataframe thead th {\n",
              "        text-align: right;\n",
              "    }\n",
              "</style>\n",
              "<table border=\"1\" class=\"dataframe\">\n",
              "  <thead>\n",
              "    <tr style=\"text-align: right;\">\n",
              "      <th></th>\n",
              "      <th>monetary</th>\n",
              "    </tr>\n",
              "    <tr>\n",
              "      <th>CustomerID</th>\n",
              "      <th></th>\n",
              "    </tr>\n",
              "  </thead>\n",
              "  <tbody>\n",
              "    <tr>\n",
              "      <th>12347.0</th>\n",
              "      <td>3122.82</td>\n",
              "    </tr>\n",
              "    <tr>\n",
              "      <th>12348.0</th>\n",
              "      <td>677.00</td>\n",
              "    </tr>\n",
              "    <tr>\n",
              "      <th>12349.0</th>\n",
              "      <td>1757.55</td>\n",
              "    </tr>\n",
              "    <tr>\n",
              "      <th>12352.0</th>\n",
              "      <td>944.23</td>\n",
              "    </tr>\n",
              "    <tr>\n",
              "      <th>12353.0</th>\n",
              "      <td>89.00</td>\n",
              "    </tr>\n",
              "    <tr>\n",
              "      <th>...</th>\n",
              "      <td>...</td>\n",
              "    </tr>\n",
              "    <tr>\n",
              "      <th>18278.0</th>\n",
              "      <td>173.90</td>\n",
              "    </tr>\n",
              "    <tr>\n",
              "      <th>18281.0</th>\n",
              "      <td>80.82</td>\n",
              "    </tr>\n",
              "    <tr>\n",
              "      <th>18282.0</th>\n",
              "      <td>176.60</td>\n",
              "    </tr>\n",
              "    <tr>\n",
              "      <th>18283.0</th>\n",
              "      <td>2009.12</td>\n",
              "    </tr>\n",
              "    <tr>\n",
              "      <th>18287.0</th>\n",
              "      <td>2032.88</td>\n",
              "    </tr>\n",
              "  </tbody>\n",
              "</table>\n",
              "<p>3861 rows × 1 columns</p>\n",
              "</div>"
            ],
            "text/plain": [
              "            monetary\n",
              "CustomerID          \n",
              "12347.0      3122.82\n",
              "12348.0       677.00\n",
              "12349.0      1757.55\n",
              "12352.0       944.23\n",
              "12353.0        89.00\n",
              "...              ...\n",
              "18278.0       173.90\n",
              "18281.0        80.82\n",
              "18282.0       176.60\n",
              "18283.0      2009.12\n",
              "18287.0      2032.88\n",
              "\n",
              "[3861 rows x 1 columns]"
            ]
          },
          "execution_count": 67,
          "metadata": {},
          "output_type": "execute_result"
        }
      ],
      "source": [
        "df_monetary = sh.copy()\n",
        "df_monetary['count'] = 1\n",
        "df_monetary = df_monetary.groupby(by=['CustomerID']).sum().reset_index()[['CustomerID', 'order_value']]\n",
        "df_monetary = df_monetary.set_index('CustomerID')\n",
        "df_monetary.columns = ['monetary']\n",
        "\n",
        "df_monetary"
      ]
    },
    {
      "cell_type": "code",
      "execution_count": 57,
      "metadata": {
        "colab": {
          "base_uri": "https://localhost:8080/",
          "height": 348
        },
        "colab_type": "code",
        "id": "V8XjN--xSnwn",
        "outputId": "086e0800-8a7d-408a-a483-ef0dacd9a068"
      },
      "outputs": [
        {
          "name": "stdout",
          "output_type": "stream",
          "text": [
            "  customer_id  monetary\n",
            "0       16676   1558.72\n",
            "1       12901  16293.10\n"
          ]
        },
        {
          "data": {
            "text/html": [
              "<div>\n",
              "<style scoped>\n",
              "    .dataframe tbody tr th:only-of-type {\n",
              "        vertical-align: middle;\n",
              "    }\n",
              "\n",
              "    .dataframe tbody tr th {\n",
              "        vertical-align: top;\n",
              "    }\n",
              "\n",
              "    .dataframe thead th {\n",
              "        text-align: right;\n",
              "    }\n",
              "</style>\n",
              "<table border=\"1\" class=\"dataframe\">\n",
              "  <thead>\n",
              "    <tr style=\"text-align: right;\">\n",
              "      <th></th>\n",
              "      <th>monetary</th>\n",
              "    </tr>\n",
              "  </thead>\n",
              "  <tbody>\n",
              "    <tr>\n",
              "      <th>count</th>\n",
              "      <td>1650.000000</td>\n",
              "    </tr>\n",
              "    <tr>\n",
              "      <th>mean</th>\n",
              "      <td>3973.304164</td>\n",
              "    </tr>\n",
              "    <tr>\n",
              "      <th>std</th>\n",
              "      <td>12993.748834</td>\n",
              "    </tr>\n",
              "    <tr>\n",
              "      <th>min</th>\n",
              "      <td>36.560000</td>\n",
              "    </tr>\n",
              "    <tr>\n",
              "      <th>25%</th>\n",
              "      <td>935.362500</td>\n",
              "    </tr>\n",
              "    <tr>\n",
              "      <th>50%</th>\n",
              "      <td>1767.770000</td>\n",
              "    </tr>\n",
              "    <tr>\n",
              "      <th>75%</th>\n",
              "      <td>3429.125000</td>\n",
              "    </tr>\n",
              "    <tr>\n",
              "      <th>max</th>\n",
              "      <td>279489.020000</td>\n",
              "    </tr>\n",
              "  </tbody>\n",
              "</table>\n",
              "</div>"
            ],
            "text/plain": [
              "            monetary\n",
              "count    1650.000000\n",
              "mean     3973.304164\n",
              "std     12993.748834\n",
              "min        36.560000\n",
              "25%       935.362500\n",
              "50%      1767.770000\n",
              "75%      3429.125000\n",
              "max    279489.020000"
            ]
          },
          "execution_count": 57,
          "metadata": {
            "tags": []
          },
          "output_type": "execute_result"
        }
      ],
      "source": [
        "monetary_query = \"\"\"\n",
        "SELECT\n",
        "  customer_id,\n",
        "  SUM(order_value) AS monetary\n",
        "FROM\n",
        "  `{}.{}.data_cleaned`\n",
        "GROUP BY\n",
        "  customer_id\"\"\"\n",
        "monetary_query = monetary_query.format(PROJECT_ID, DATASET)\n",
        "\n",
        "df_monetary = pd.io.gbq.read_gbq(query=monetary_query, dialect ='standard', project_id=PROJECT_ID)\n",
        "print(df_monetary.head(2))\n",
        "df_monetary.describe()"
      ]
    },
    {
      "cell_type": "code",
      "execution_count": 68,
      "metadata": {
        "colab": {
          "base_uri": "https://localhost:8080/",
          "height": 337
        },
        "colab_type": "code",
        "id": "BpyOyOIfSnwq",
        "outputId": "b7d45413-777a-495f-b2f8-3eff30a52c3c"
      },
      "outputs": [
        {
          "data": {
            "text/plain": [
              "<AxesSubplot:xlabel='monetary', ylabel='Density'>"
            ]
          },
          "execution_count": 68,
          "metadata": {},
          "output_type": "execute_result"
        },
        {
          "data": {
            "image/png": "[encoded data removed]",
            "text/plain": [
              "<Figure size 720x360 with 1 Axes>"
            ]
          },
          "metadata": {
            "needs_background": "light"
          },
          "output_type": "display_data"
        }
      ],
      "source": [
        "fig, axs = plt.subplots(figsize=(10, 5))\n",
        "sns.kdeplot(df_monetary['monetary'], clip=(-1000, 15000))"
      ]
    },
    {
      "cell_type": "markdown",
      "metadata": {
        "colab_type": "text",
        "id": "N0icT7seXwu1"
      },
      "source": [
        "We can clip the monetary data at 15000"
      ]
    },
    {
      "cell_type": "code",
      "execution_count": null,
      "metadata": {
        "colab": {},
        "colab_type": "code",
        "id": "Zr3JO8KXTQm-"
      },
      "outputs": [],
      "source": []
    }
  ],
  "metadata": {
    "colab": {
      "name": "Exploration.ipynb",
      "provenance": [],
      "version": "0.3.2"
    },
    "kernelspec": {
      "display_name": "Python 3.8.10 ('venv': venv)",
      "language": "python",
      "name": "python3"
    },
    "language_info": {
      "codemirror_mode": {
        "name": "ipython",
        "version": 3
      },
      "file_extension": ".py",
      "mimetype": "text/x-python",
      "name": "python",
      "nbconvert_exporter": "python",
      "pygments_lexer": "ipython3",
      "version": "3.8.10"
    },
    "vscode": {
      "interpreter": {
        "hash": "39a51077db9d19291d62f76615d5a861cd5a056414713e0856600e701ab89687"
      }
    }
  },
  "nbformat": 4,
  "nbformat_minor": 0
}
